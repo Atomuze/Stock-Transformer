{
 "cells": [
  {
   "cell_type": "markdown",
   "source": [
    "預處理期交所的資料"
   ],
   "metadata": {
    "collapsed": false
   },
   "id": "f2fe70d25d16022c"
  },
  {
   "cell_type": "code",
   "execution_count": 3,
   "outputs": [],
   "source": [
    "import pandas as pd\n",
    "import numpy as np\n",
    "import os"
   ],
   "metadata": {
    "collapsed": false,
    "ExecuteTime": {
     "end_time": "2023-07-30T15:53:45.196914Z",
     "start_time": "2023-07-30T15:53:44.906009Z"
    }
   },
   "id": "439c0d7e1eaab7e6"
  },
  {
   "cell_type": "code",
   "execution_count": 110,
   "outputs": [
    {
     "name": "stdout",
     "output_type": "stream",
     "text": [
      "data/202305/Daily_2023_05_10.csvFile is available.\n",
      "data/202305/Daily_2023_05_11.csvFile is available.\n",
      "data/202305/Daily_2023_05_12.csvFile is available.\n",
      "data/202305/Daily_2023_05_13.csvFile is not available.\n",
      "data/202305/Daily_2023_05_14.csvFile is not available.\n",
      "data/202305/Daily_2023_05_15.csvFile is available.\n",
      "data/202305/Daily_2023_05_16.csvFile is available.\n",
      "data/202305/Daily_2023_05_17.csvFile is available.\n",
      "data/202305/Daily_2023_05_18.csvFile is available.\n",
      "data/202305/Daily_2023_05_19.csvFile is available.\n",
      "data/202305/Daily_2023_05_20.csvFile is not available.\n",
      "data/202305/Daily_2023_05_21.csvFile is not available.\n",
      "data/202305/Daily_2023_05_22.csvFile is available.\n",
      "data/202305/Daily_2023_05_23.csvFile is available.\n",
      "data/202305/Daily_2023_05_24.csvFile is available.\n",
      "data/202305/Daily_2023_05_25.csvFile is available.\n",
      "data/202305/Daily_2023_05_26.csvFile is not available.\n",
      "data/202305/Daily_2023_05_27.csvFile is not available.\n",
      "data/202305/Daily_2023_05_28.csvFile is not available.\n",
      "data/202305/Daily_2023_05_29.csvFile is available.\n",
      "data/202305/Daily_2023_05_30.csvFile is available.\n",
      "data/202305/Daily_2023_05_31.csvFile is available.\n",
      "[15724. 15724. 15725. ... 16488. 16488. 16489.]\n"
     ]
    },
    {
     "data": {
      "text/plain": "1074797"
     },
     "execution_count": 110,
     "metadata": {},
     "output_type": "execute_result"
    }
   ],
   "source": [
    "# 載入所有資料\n",
    "\n",
    "full_tx_data = []\n",
    "m = '202305'\n",
    "data_m = '202305'\n",
    "\n",
    "for i in range(9,31):\n",
    "    filepath = 'data/202305/'\n",
    "    filename = 'Daily_2023_05_' + str(i+1) + '.csv'\n",
    "    filepath = filepath + filename\n",
    "    if os.path.exists(filepath):\n",
    "        print(filepath + \"File is available.\")\n",
    "        df = pd.read_csv(filepath, encoding= 'big5')\n",
    "        df = df.apply(lambda x: x.str.strip() if x.dtype == \"object\" else x)\n",
    "        # print(df.head())\n",
    "        data_m = '202305' if i+1 < 17 else '202306'\n",
    "        tx_data = df[(df['商品代號'] == 'TX') & (df['到期月份(週別)'] == data_m)]\n",
    "        tx_data = tx_data['成交價格']\n",
    "        \n",
    "        df = pd.DataFrame(tx_data)\n",
    "        # Transpose the column to a row\n",
    "        data = df.values.reshape(1, -1).ravel()\n",
    "        # print(data)\n",
    "        full_tx_data = np.concatenate((full_tx_data, data))\n",
    "        # full_tx_data = pd.concat([full_tx_data, data], axis=0)\n",
    "    else:\n",
    "        print(filepath + \"File is not available.\")\n",
    "print(full_tx_data)\n",
    "len(full_tx_data)\n",
    "\n",
    "# 使用 to_csv() 方法寫入 CSV 檔案，指定檔案路徑和檔案名稱\n",
    "# tx_df.to_csv('data/tx_data.csv', index=False)  # 如果不想寫入索引，設定 index=False\n",
    "np.savetxt('data/tx_data.csv', full_tx_data, delimiter=',', fmt='%d')"
   ],
   "metadata": {
    "collapsed": false,
    "ExecuteTime": {
     "end_time": "2023-07-29T09:38:29.820579Z",
     "start_time": "2023-07-29T09:38:24.174113Z"
    }
   },
   "id": "initial_id"
  },
  {
   "cell_type": "code",
   "execution_count": 12,
   "outputs": [
    {
     "name": "stdout",
     "output_type": "stream",
     "text": [
      "data/202305/Daily_2023_05_10.csvFile is available.\n",
      "15724.0\n",
      "data/202305/Daily_2023_05_11.csvFile is available.\n",
      "15586.0\n",
      "data/202305/Daily_2023_05_12.csvFile is available.\n",
      "15508.0\n",
      "data/202305/Daily_2023_05_13.csvFile is not available.\n",
      "data/202305/Daily_2023_05_14.csvFile is not available.\n",
      "data/202305/Daily_2023_05_15.csvFile is available.\n",
      "15503.0\n",
      "data/202305/Daily_2023_05_16.csvFile is available.\n",
      "15536.0\n",
      "data/202305/Daily_2023_05_17.csvFile is available.\n",
      "15637.0\n",
      "data/202305/Daily_2023_05_18.csvFile is available.\n",
      "15876.0\n",
      "data/202305/Daily_2023_05_19.csvFile is available.\n",
      "16067.0\n",
      "data/202305/Daily_2023_05_20.csvFile is not available.\n",
      "data/202305/Daily_2023_05_21.csvFile is not available.\n",
      "data/202305/Daily_2023_05_22.csvFile is available.\n",
      "16124.0\n",
      "data/202305/Daily_2023_05_23.csvFile is available.\n",
      "16110.0\n",
      "data/202305/Daily_2023_05_24.csvFile is available.\n",
      "16122.0\n",
      "data/202305/Daily_2023_05_25.csvFile is available.\n",
      "16058.0\n",
      "data/202305/Daily_2023_05_26.csvFile is not available.\n",
      "data/202305/Daily_2023_05_27.csvFile is not available.\n",
      "data/202305/Daily_2023_05_28.csvFile is not available.\n",
      "data/202305/Daily_2023_05_29.csvFile is available.\n",
      "16456.0\n",
      "data/202305/Daily_2023_05_30.csvFile is available.\n",
      "16576.0\n",
      "data/202305/Daily_2023_05_31.csvFile is available.\n",
      "16592.0\n",
      "[ 0.00000000e+00  0.00000000e+00 -6.35970491e-05 ...  6.26808100e-03\n",
      "  6.26808100e-03  6.20781099e-03]\n",
      "1074797\n"
     ]
    }
   ],
   "source": [
    "# 資料轉成漲跌幅\n",
    "\n",
    "full_tx_data = []\n",
    "m = '202305'\n",
    "data_m = '202305'\n",
    "\n",
    "for i in range(9,31):\n",
    "    filepath = 'data/202305/'\n",
    "    filename = 'Daily_2023_05_' + str(i+1) + '.csv'\n",
    "    filepath = filepath + filename\n",
    "    if os.path.exists(filepath):\n",
    "        print(filepath + \"File is available.\")\n",
    "        df = pd.read_csv(filepath, encoding= 'big5')\n",
    "        df = df.apply(lambda x: x.str.strip() if x.dtype == \"object\" else x)\n",
    "        # print(df.head())\n",
    "        data_m = '202305' if i+1 < 17 else '202306'\n",
    "        tx_data = df[(df['商品代號'] == 'TX') & (df['到期月份(週別)'] == data_m)]\n",
    "        tx_data = tx_data['成交價格']\n",
    "        tx_data = tx_data.reset_index(drop=True)\n",
    "        print(tx_data[0])\n",
    "        open_price = tx_data[0]\n",
    "        for i in range(len(tx_data)):\n",
    "            tx_data[i] = 1 - (tx_data[i]/open_price)\n",
    "        \n",
    "        df = pd.DataFrame(tx_data)\n",
    "        # Transpose the column to a row\n",
    "        data = df.values.reshape(1, -1).ravel()\n",
    "        # print(data)\n",
    "        full_tx_data = np.concatenate((full_tx_data, data))\n",
    "        # full_tx_data = pd.concat([full_tx_data, data], axis=0)\n",
    "    else:\n",
    "        print(filepath + \"File is not available.\")\n",
    "print(full_tx_data)\n",
    "print(len(full_tx_data))\n",
    "\n",
    "# 使用 to_csv() 方法寫入 CSV 檔案，指定檔案路徑和檔案名稱\n",
    "# tx_df.to_csv('data/tx_data.csv', index=False)  # 如果不想寫入索引，設定 index=False\n",
    "np.savetxt('data/tx_data_quote.csv', full_tx_data, delimiter=',', fmt='%f')"
   ],
   "metadata": {
    "collapsed": false,
    "ExecuteTime": {
     "end_time": "2023-07-30T00:40:33.120501Z",
     "start_time": "2023-07-30T00:40:22.571735Z"
    }
   },
   "id": "5d37b84399f6c81f"
  },
  {
   "cell_type": "code",
   "execution_count": 106,
   "outputs": [
    {
     "name": "stdout",
     "output_type": "stream",
     "text": [
      "data/202305/Daily_2023_05_25.csvFile is available.\n",
      "[16058. 16058. 16058. ... 16207. 16207. 16207.]\n",
      "[32116. 32116. 32116. ... 16207. 16207. 16207.]\n",
      "508926\n"
     ]
    }
   ],
   "source": [
    "# test cell\n",
    "# full_tx_data = [0]\n",
    "filepath = 'data/202305/'\n",
    "i = 24\n",
    "filename = 'Daily_2023_05_' + str(i+1) + '.csv'\n",
    "filepath = filepath + filename\n",
    "if os.path.exists(filepath):\n",
    "    print(filepath + \"File is available.\")\n",
    "    df = pd.read_csv(filepath, encoding= 'big5')\n",
    "    df = df.apply(lambda x: x.str.strip() if x.dtype == \"object\" else x)\n",
    "    # print(df.head())\n",
    "    data_m = '202305' if i+1 < 17 else '202306'\n",
    "    tx_data = df[(df['商品代號'] == 'TX') & (df['到期月份(週別)'] == data_m)]\n",
    "    tx_data = tx_data['成交價格']\n",
    "    \n",
    "    df = pd.DataFrame(tx_data)\n",
    "    # Transpose the column to a row\n",
    "    data = df.values.reshape(1, -1).ravel()\n",
    "    print(data)\n",
    "    full_tx_data = np.concatenate((full_tx_data, data))\n",
    "    # full_tx_data = pd.concat([full_tx_data, data], axis=0)\n",
    "else:\n",
    "    print(filepath + \"File is not available.\")\n",
    "print(full_tx_data)\n",
    "print(len(full_tx_data))"
   ],
   "metadata": {
    "collapsed": false,
    "ExecuteTime": {
     "end_time": "2023-07-29T09:36:32.798621Z",
     "start_time": "2023-07-29T09:36:32.372434Z"
    }
   },
   "id": "e0c9eef635b908a3"
  },
  {
   "cell_type": "code",
   "execution_count": 7,
   "outputs": [
    {
     "name": "stdout",
     "output_type": "stream",
     "text": [
      "data/tx_data0510.csvFile is available.\n",
      "[ 0.00000000e+00  0.00000000e+00 -6.35970491e-05 ...  4.60442635e-02\n",
      "  4.55990842e-02  4.88425337e-02]\n",
      "70199\n"
     ]
    }
   ],
   "source": [
    "# test cell\n",
    "# full_tx_data = [0]\n",
    "filepath = 'data/'\n",
    "filename = 'tx_data0510.csv'\n",
    "filepath = filepath + filename\n",
    "if os.path.exists(filepath):\n",
    "    print(filepath + \"File is available.\")\n",
    "    df = pd.read_csv(filepath)\n",
    "    tx_data = df.to_numpy().ravel()\n",
    "    open_price = tx_data[0]\n",
    "    for i in range(len(tx_data)):\n",
    "        tx_data[i] = 1 - (tx_data[i]/open_price)\n",
    "    \n",
    "    df = pd.DataFrame(tx_data)\n",
    "    # Transpose the column to a row\n",
    "    data = df.values.reshape(1, -1).ravel()\n",
    "else:\n",
    "    print(filepath + \"File is not available.\")\n",
    "print(data)\n",
    "print(len(data))\n",
    "\n",
    "# 寫入 CSV 檔案，指定檔案路徑和檔案名稱\n",
    "np.savetxt('data/tx_data0510_quote.csv', data, delimiter=',', fmt='%f')"
   ],
   "metadata": {
    "collapsed": false,
    "ExecuteTime": {
     "end_time": "2023-07-30T15:54:43.890968Z",
     "start_time": "2023-07-30T15:54:42.888066Z"
    }
   },
   "id": "49b86052c99214d0"
  }
 ],
 "metadata": {
  "kernelspec": {
   "display_name": "Python 3",
   "language": "python",
   "name": "python3"
  },
  "language_info": {
   "codemirror_mode": {
    "name": "ipython",
    "version": 2
   },
   "file_extension": ".py",
   "mimetype": "text/x-python",
   "name": "python",
   "nbconvert_exporter": "python",
   "pygments_lexer": "ipython2",
   "version": "2.7.6"
  }
 },
 "nbformat": 4,
 "nbformat_minor": 5
}
